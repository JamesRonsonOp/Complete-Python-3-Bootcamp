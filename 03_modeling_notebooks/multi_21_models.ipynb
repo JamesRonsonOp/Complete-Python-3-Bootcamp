{
  "nbformat": 4,
  "nbformat_minor": 0,
  "metadata": {
    "kernelspec": {
      "display_name": "Python 3",
      "language": "python",
      "name": "python3"
    },
    "language_info": {
      "codemirror_mode": {
        "name": "ipython",
        "version": 3
      },
      "file_extension": ".py",
      "mimetype": "text/x-python",
      "name": "python",
      "nbconvert_exporter": "python",
      "pygments_lexer": "ipython3",
      "version": "3.8.3"
    },
    "colab": {
      "name": "multi_21_models.ipynb",
      "provenance": [],
      "collapsed_sections": [],
      "machine_shape": "hm",
      "include_colab_link": true
    }
  },
  "cells": [
    {
      "cell_type": "markdown",
      "metadata": {
        "id": "view-in-github",
        "colab_type": "text"
      },
      "source": [
        "<a href=\"https://colab.research.google.com/github/JamesRonsonOp/Complete-Python-3-Bootcamp/blob/master/03_modeling_notebooks/multi_21_models.ipynb\" target=\"_parent\"><img src=\"https://colab.research.google.com/assets/colab-badge.svg\" alt=\"Open In Colab\"/></a>"
      ]
    },
    {
      "cell_type": "markdown",
      "metadata": {
        "id": "MN-4BBxRHy0r"
      },
      "source": [
        "_______\n",
        "# About This Notebook\n",
        "_______\n",
        "\n",
        "### This Notebook Performs Four Major Functions: \n",
        "\n",
        "* 1. Grid Searches Through Possible Classifiers and Hyperparameters\n",
        "* 2. Fits and Scores a Multinomial Naive Bayes Classifier with Downsampled Classes\n",
        "* 3. Fits and Scores a Multinomial Naive Bayes Classifier with Imbalanced Classes\n",
        "* 4. Fits and Scores a Multinomial Naive Bayes Classifier with SMOTE Up-sampled Classes\n",
        "\n",
        "### Content Links\n",
        "\n",
        "* [Baseline Model](#baseline)\n",
        "* [Downsampled Multinomial Naive Bayes](#downsampled)\n",
        "* [Multinomial Naive Bayes with All Observations](#all)\n",
        "* [Bootstrapped Multinomial Naive Bayes](#bootstrap)\n",
        "* [Model Scoring Summary](#compiled)\n",
        "\n"
      ]
    },
    {
      "cell_type": "markdown",
      "metadata": {
        "id": "ORZ_zzJLjMEV"
      },
      "source": [
        "_______\n",
        "### Imports\n",
        "______\n"
      ]
    },
    {
      "cell_type": "code",
      "metadata": {
        "id": "sUcwDaHHHy0t"
      },
      "source": [
        "import pandas as pd\n",
        "import numpy as np\n",
        "\n",
        "# Importing Visualization Libraries\n",
        "import matplotlib.pyplot as plt\n",
        "import seaborn as sns\n",
        "\n",
        "# SKLearn Libraries\n",
        "from sklearn.feature_extraction.text import CountVectorizer, TfidfVectorizer\n",
        "from sklearn.model_selection import train_test_split, GridSearchCV\n",
        "from sklearn.pipeline import Pipeline\n",
        "from sklearn.preprocessing import LabelEncoder\n",
        "\n",
        "# SKLearn Model Libraries\n",
        "from sklearn.naive_bayes import MultinomialNB\n",
        "from sklearn.svm import SVC\n",
        "from sklearn.linear_model import LogisticRegression\n",
        "from sklearn.neighbors import KNeighborsClassifier\n",
        "from sklearn.ensemble import RandomForestClassifier, AdaBoostClassifier\n",
        "from sklearn.ensemble import VotingClassifier\n",
        "\n",
        "# SKLearn Metric Libraries\n",
        "from sklearn.metrics import confusion_matrix, plot_confusion_matrix, accuracy_score\n",
        "from sklearn.metrics import precision_score, recall_score, classification_report\n",
        "from sklearn.metrics import roc_curve, plot_roc_curve, auc, f1_score\n",
        "from sklearn import metrics\n",
        "\n",
        "# Other Libraries\n",
        "from collections import Counter\n",
        "from imblearn.over_sampling import SMOTE\n",
        "from random import sample"
      ],
      "execution_count": 159,
      "outputs": []
    },
    {
      "cell_type": "markdown",
      "metadata": {
        "id": "QclIwFDdHy0v"
      },
      "source": [
        "_______\n",
        "### Read in Data\n",
        "_______"
      ]
    },
    {
      "cell_type": "code",
      "metadata": {
        "id": "QZmcTJNxHy0w"
      },
      "source": [
        "wine_df = pd.read_csv('https://raw.githubusercontent.com/JamesRonsonOp/varietal_predictor/main/data/003_preprocessed_downsampled.csv')"
      ],
      "execution_count": 160,
      "outputs": []
    },
    {
      "cell_type": "code",
      "metadata": {
        "colab": {
          "base_uri": "https://localhost:8080/",
          "height": 204
        },
        "id": "Vav626KVHy0x",
        "outputId": "65f8b5ad-4f21-4bda-ca02-ff10dc4b97c1"
      },
      "source": [
        "wine_df.head()"
      ],
      "execution_count": 161,
      "outputs": [
        {
          "output_type": "execute_result",
          "data": {
            "text/html": [
              "<div>\n",
              "<style scoped>\n",
              "    .dataframe tbody tr th:only-of-type {\n",
              "        vertical-align: middle;\n",
              "    }\n",
              "\n",
              "    .dataframe tbody tr th {\n",
              "        vertical-align: top;\n",
              "    }\n",
              "\n",
              "    .dataframe thead th {\n",
              "        text-align: right;\n",
              "    }\n",
              "</style>\n",
              "<table border=\"1\" class=\"dataframe\">\n",
              "  <thead>\n",
              "    <tr style=\"text-align: right;\">\n",
              "      <th></th>\n",
              "      <th>varietal</th>\n",
              "      <th>description</th>\n",
              "      <th>color</th>\n",
              "      <th>encoded</th>\n",
              "      <th>parsed</th>\n",
              "    </tr>\n",
              "  </thead>\n",
              "  <tbody>\n",
              "    <tr>\n",
              "      <th>0</th>\n",
              "      <td>Riesling</td>\n",
              "      <td>earthy hovers nettle lemon balm aromatic lemon...</td>\n",
              "      <td>white</td>\n",
              "      <td>14</td>\n",
              "      <td>earthy hovers nettle lemon balm aromatic lemon...</td>\n",
              "    </tr>\n",
              "    <tr>\n",
              "      <th>1</th>\n",
              "      <td>Riesling</td>\n",
              "      <td>waxy accented whiff racy footed shade invigora...</td>\n",
              "      <td>white</td>\n",
              "      <td>14</td>\n",
              "      <td>waxy accented whiff racy footed shade invigora...</td>\n",
              "    </tr>\n",
              "    <tr>\n",
              "      <th>2</th>\n",
              "      <td>Riesling</td>\n",
              "      <td>steep provided raimund prum offering turned mu...</td>\n",
              "      <td>white</td>\n",
              "      <td>14</td>\n",
              "      <td>steep provided raimund prum offering turned mu...</td>\n",
              "    </tr>\n",
              "    <tr>\n",
              "      <th>3</th>\n",
              "      <td>Riesling</td>\n",
              "      <td>closed swirling characteristic apples superrip...</td>\n",
              "      <td>white</td>\n",
              "      <td>14</td>\n",
              "      <td>closed swirling characteristic apples superrip...</td>\n",
              "    </tr>\n",
              "    <tr>\n",
              "      <th>4</th>\n",
              "      <td>Riesling</td>\n",
              "      <td>lend stately bursting tangerine quince brisk l...</td>\n",
              "      <td>white</td>\n",
              "      <td>14</td>\n",
              "      <td>lend stately bursting tangerine quince brisk l...</td>\n",
              "    </tr>\n",
              "  </tbody>\n",
              "</table>\n",
              "</div>"
            ],
            "text/plain": [
              "   varietal  ...                                             parsed\n",
              "0  Riesling  ...  earthy hovers nettle lemon balm aromatic lemon...\n",
              "1  Riesling  ...  waxy accented whiff racy footed shade invigora...\n",
              "2  Riesling  ...  steep provided raimund prum offering turned mu...\n",
              "3  Riesling  ...  closed swirling characteristic apples superrip...\n",
              "4  Riesling  ...  lend stately bursting tangerine quince brisk l...\n",
              "\n",
              "[5 rows x 5 columns]"
            ]
          },
          "metadata": {
            "tags": []
          },
          "execution_count": 161
        }
      ]
    },
    {
      "cell_type": "code",
      "metadata": {
        "colab": {
          "base_uri": "https://localhost:8080/",
          "height": 52
        },
        "id": "Q_ptGZbF-W9g",
        "outputId": "7e9778dd-cd9e-4f7a-d2a3-36920c043322"
      },
      "source": [
        "wine_df['parsed'][0]"
      ],
      "execution_count": 51,
      "outputs": [
        {
          "output_type": "execute_result",
          "data": {
            "application/vnd.google.colaboratory.intrinsic+json": {
              "type": "string"
            },
            "text/plain": [
              "'earthy hovers nettle lemon balm aromatic lemon freshness exquisitely vivid lemon freshness earthier edges adding depth unfurl passes linear incisive precise white'"
            ]
          },
          "metadata": {
            "tags": []
          },
          "execution_count": 51
        }
      ]
    },
    {
      "cell_type": "code",
      "metadata": {
        "colab": {
          "base_uri": "https://localhost:8080/"
        },
        "id": "SuzKFXa8Hy01",
        "outputId": "06efd71c-b36a-4606-c34a-bc3772c30247"
      },
      "source": [
        "wine_df['varietal'].value_counts()"
      ],
      "execution_count": 52,
      "outputs": [
        {
          "output_type": "execute_result",
          "data": {
            "text/plain": [
              "Albarino              400\n",
              "Pinot Noir            400\n",
              "Pinot Grigio          400\n",
              "Viognier              400\n",
              "Malbec                400\n",
              "Zinfandel             400\n",
              "Chardonnay            400\n",
              "Gruner Veltliner      400\n",
              "Glera                 400\n",
              "Merlot                400\n",
              "Sangiovese            400\n",
              "Cabernet Sauvignon    400\n",
              "Sauvignon Blanc       400\n",
              "Riesling              400\n",
              "Chenin Blanc          400\n",
              "Grenache              400\n",
              "Syrah                 400\n",
              "Tempranillo           400\n",
              "Gewurztraminer        400\n",
              "Nebbiolo              400\n",
              "Garganega             244\n",
              "Name: varietal, dtype: int64"
            ]
          },
          "metadata": {
            "tags": []
          },
          "execution_count": 52
        }
      ]
    },
    {
      "cell_type": "markdown",
      "metadata": {
        "id": "Evwnhq0vHy1C"
      },
      "source": [
        "\n",
        "__________\n",
        "### Create Target and Predictor Variables\n",
        "_________"
      ]
    },
    {
      "cell_type": "code",
      "metadata": {
        "id": "sK6_E6UyHy1L"
      },
      "source": [
        "X = wine_df['parsed']\n",
        "# Creating Multi-Class Targets\n",
        "y = wine_df['varietal']"
      ],
      "execution_count": 100,
      "outputs": []
    },
    {
      "cell_type": "code",
      "metadata": {
        "colab": {
          "base_uri": "https://localhost:8080/"
        },
        "id": "CQz2Tj6XHy1N",
        "outputId": "f0ef2b2e-3e9e-4887-f20a-926741785cf2"
      },
      "source": [
        "print(f'Feature Variables Shape: {X.shape}')\n",
        "print(f'Target Variables Shape: {y.shape}')"
      ],
      "execution_count": 101,
      "outputs": [
        {
          "output_type": "stream",
          "text": [
            "Feature Variables Shape: (8244,)\n",
            "Target Variables Shape: (8244,)\n"
          ],
          "name": "stdout"
        }
      ]
    },
    {
      "cell_type": "markdown",
      "metadata": {
        "id": "lQyRxdo9Hy1O"
      },
      "source": [
        "<a id='baseline'></a>\n",
        "____\n",
        "### Baseline Model For Multi-Class Classification\n",
        "____"
      ]
    },
    {
      "cell_type": "code",
      "metadata": {
        "colab": {
          "base_uri": "https://localhost:8080/"
        },
        "id": "2NMn-epYHy1P",
        "outputId": "e536a461-964e-4470-a612-3668ffca8635"
      },
      "source": [
        "y.value_counts(normalize = True)"
      ],
      "execution_count": 102,
      "outputs": [
        {
          "output_type": "execute_result",
          "data": {
            "text/plain": [
              "Albarino              0.048520\n",
              "Pinot Noir            0.048520\n",
              "Pinot Grigio          0.048520\n",
              "Viognier              0.048520\n",
              "Malbec                0.048520\n",
              "Zinfandel             0.048520\n",
              "Chardonnay            0.048520\n",
              "Gruner Veltliner      0.048520\n",
              "Glera                 0.048520\n",
              "Merlot                0.048520\n",
              "Sangiovese            0.048520\n",
              "Cabernet Sauvignon    0.048520\n",
              "Sauvignon Blanc       0.048520\n",
              "Riesling              0.048520\n",
              "Chenin Blanc          0.048520\n",
              "Grenache              0.048520\n",
              "Syrah                 0.048520\n",
              "Tempranillo           0.048520\n",
              "Gewurztraminer        0.048520\n",
              "Nebbiolo              0.048520\n",
              "Garganega             0.029597\n",
              "Name: varietal, dtype: float64"
            ]
          },
          "metadata": {
            "tags": []
          },
          "execution_count": 102
        }
      ]
    },
    {
      "cell_type": "markdown",
      "metadata": {
        "id": "Z3Wd-w4skKSJ"
      },
      "source": [
        "___\n",
        "**Interpretation of the Baseline**\n",
        "___\n",
        "Given that all classes are balanced you would have a slightly less than 5 percent chance at blindly and randomly guessing a varietal. \n",
        "______"
      ]
    },
    {
      "cell_type": "markdown",
      "metadata": {
        "id": "o996cf4JHy1R"
      },
      "source": [
        "____\n",
        "### Train / Test / Split\n",
        "_____"
      ]
    },
    {
      "cell_type": "code",
      "metadata": {
        "id": "iKp4UQ1IHy1R"
      },
      "source": [
        "X_train, X_test, y_train, y_test = train_test_split(X, y,\n",
        "                                                   test_size = .33, \n",
        "                                                   stratify = y, \n",
        "                                                   random_state = 42)"
      ],
      "execution_count": 103,
      "outputs": []
    },
    {
      "cell_type": "markdown",
      "metadata": {
        "id": "a2Zmqf9wHy1R"
      },
      "source": [
        "<a id='grid'></a>\n",
        "_____\n",
        "### Grid Searching Classifiers and Hyperparameters\n",
        "_____\n",
        "\n",
        "The code for this gridsearch was lightly adapted from here. [Github](https://github.com/opacichjj/NLP_Reddit_Classification/blob/master/3_Feature_Engineering_and_Baseline.ipynb)"
      ]
    },
    {
      "cell_type": "code",
      "metadata": {
        "id": "ttVlMw7XHy1R"
      },
      "source": [
        "## creating a list of our two chosen vectorizers to iterate through in our grid search\n",
        "vectorizer = [CountVectorizer(), TfidfVectorizer()]"
      ],
      "execution_count": 79,
      "outputs": []
    },
    {
      "cell_type": "code",
      "metadata": {
        "id": "pQH1yqbrHy1S"
      },
      "source": [
        "## creating variables to accept tuning parameters\n",
        "max_feat = [1000, 2000, 5000]  \n",
        "ngram_range = [(1, 1), (1, 3), (1, 2)] \n",
        "max_df = [0.9, 0.8, 1.0] "
      ],
      "execution_count": 80,
      "outputs": []
    },
    {
      "cell_type": "code",
      "metadata": {
        "id": "0A9_uGLCHy1S",
        "colab": {
          "base_uri": "https://localhost:8080/",
          "height": 958
        },
        "outputId": "22f2ed19-9c40-4e2e-bc6a-ddfbed2b94f6"
      },
      "source": [
        "## creating any empty results list to capture our cv_results_ at the end of each iteration\n",
        "results = []\n",
        "\n",
        "## looping through both vectorizers\n",
        "for vect in vectorizer:\n",
        "    \n",
        "    #### Pipeline for our Vectorizer and Classifier Models ####\n",
        "    pipeline = Pipeline([\n",
        "        ('vect', vect),\n",
        "        ('clf', LogisticRegression())])\n",
        "    \n",
        "    instantiations = [ #### Beginning of Instantiations List ####\n",
        "        {\n",
        "            ### Log Reg Vect Hyperparameters ###\n",
        "            \n",
        "            'vect__max_features': max_feat,\n",
        "            'vect__ngram_range': ngram_range,\n",
        "            'vect__max_df': max_df,\n",
        "            \n",
        "            ## Instantiate Log Reg and Hyperparamaters\n",
        "            'clf': (LogisticRegression(solver='liblinear'), ), ## setting our first classifier model\n",
        "            'clf__penalty': ('l1', 'l2'),\n",
        "            'clf__C': (.5, 1.0), \n",
        "        }, \n",
        "    #######\n",
        "        {\n",
        "            \n",
        "            ### Multinomial Bayes Vect Hyperparameters ###\n",
        "            'vect__max_features': max_feat,\n",
        "            'vect__ngram_range': ngram_range,\n",
        "            'vect__max_df': max_df,\n",
        "            \n",
        "            ## Instantiate Mulinomial NB and Hyperparamters ##\n",
        "            'clf': (MultinomialNB(), ),  \n",
        "            'clf__alpha': (.5, 1.0)\n",
        "        },\n",
        "    #######  \n",
        "        {\n",
        "            ### RandomForestClassifier Vect Hyperparameters ###\n",
        "            'vect__max_features': max_feat,\n",
        "            'vect__ngram_range': ngram_range,\n",
        "            'vect__max_df': max_df,\n",
        "            \n",
        "            ## Instantiate RandomForestClassifier ##\n",
        "            'clf': (RandomForestClassifier(n_estimators=100, min_samples_split=3), ),\n",
        "        } \n",
        "                    ] #### end of instantiations list ####\n",
        "    \n",
        "    \n",
        "    #### Grid Search ####\n",
        "    \n",
        "    grid_search = GridSearchCV(pipeline, \n",
        "                               instantiations,\n",
        "                               cv=3,\n",
        "                               n_jobs=-1,\n",
        "                               verbose=3,\n",
        "                               return_train_score=True)\n",
        "    \n",
        "    #### Output Results ####\n",
        "    \n",
        "    ## running an if statement to print the type of vectorizer used\n",
        "    if vect == vectorizer[0]:\n",
        "        vect_string = \"CountVectorizer\"\n",
        "    \n",
        "    else:\n",
        "        vect_string = \"Tf-IDF Vectorizer\"\n",
        "    \n",
        "    ## fitting our model and printing our best scores and parameters\n",
        "    grid_search.fit(X_train, y_train)\n",
        "\n",
        "    # Printing Best Score For Each Vectorizer\n",
        "    print(f'''Best score for {vect_string} is: {round(grid_search.best_score_ * 100, 2)} %\n",
        "    ''')\n",
        "    print(grid_search.best_params_)\n",
        "    print(\"\")\n",
        "\n",
        "# Turning the results from above into a dataframe\n",
        "results_df = pd.DataFrame(grid_search.cv_results_)\n",
        "# Creating a differential column to measure difference between train and test score. \n",
        "results_df['score_diff'] = results_df['mean_test_score'] - results_df['mean_train_score']\n",
        "\n",
        "# Grouping the results based on classifier. \n",
        "results_df = results_df.sort_values('score_diff', ascending = False)\n",
        "results_df['param_clf'] = results_df['param_clf'].astype(str)\n",
        "results_df.groupby('param_clf').mean()"
      ],
      "execution_count": 59,
      "outputs": [
        {
          "output_type": "stream",
          "text": [
            "Fitting 3 folds for each of 84 candidates, totalling 252 fits\n"
          ],
          "name": "stdout"
        },
        {
          "output_type": "stream",
          "text": [
            "[Parallel(n_jobs=-1)]: Using backend LokyBackend with 4 concurrent workers.\n",
            "[Parallel(n_jobs=-1)]: Done  24 tasks      | elapsed:    8.0s\n",
            "[Parallel(n_jobs=-1)]: Done 120 tasks      | elapsed:   37.0s\n",
            "[Parallel(n_jobs=-1)]: Done 252 out of 252 | elapsed:  1.6min finished\n"
          ],
          "name": "stderr"
        },
        {
          "output_type": "stream",
          "text": [
            "Best score for CountVectorizer is: 41.7 %\n",
            "    \n",
            "{'clf': MultinomialNB(alpha=1.0, class_prior=None, fit_prior=True), 'clf__alpha': 1.0, 'vect__max_df': 0.9, 'vect__max_features': 2000, 'vect__ngram_range': (1, 2)}\n",
            "\n",
            "Fitting 3 folds for each of 84 candidates, totalling 252 fits\n"
          ],
          "name": "stdout"
        },
        {
          "output_type": "stream",
          "text": [
            "[Parallel(n_jobs=-1)]: Using backend LokyBackend with 4 concurrent workers.\n",
            "[Parallel(n_jobs=-1)]: Done  24 tasks      | elapsed:    5.8s\n",
            "[Parallel(n_jobs=-1)]: Done 120 tasks      | elapsed:   29.2s\n",
            "[Parallel(n_jobs=-1)]: Done 252 out of 252 | elapsed:  1.6min finished\n"
          ],
          "name": "stderr"
        },
        {
          "output_type": "stream",
          "text": [
            "Best score for Tf-IDF Vectorizer is: 42.02 %\n",
            "    \n",
            "{'clf': LogisticRegression(C=1.0, class_weight=None, dual=False, fit_intercept=True,\n",
            "                   intercept_scaling=1, l1_ratio=None, max_iter=100,\n",
            "                   multi_class='auto', n_jobs=None, penalty='l2',\n",
            "                   random_state=None, solver='liblinear', tol=0.0001, verbose=0,\n",
            "                   warm_start=False), 'clf__C': 1.0, 'clf__penalty': 'l2', 'vect__max_df': 0.9, 'vect__max_features': 5000, 'vect__ngram_range': (1, 2)}\n",
            "\n"
          ],
          "name": "stdout"
        },
        {
          "output_type": "execute_result",
          "data": {
            "text/html": [
              "<div>\n",
              "<style scoped>\n",
              "    .dataframe tbody tr th:only-of-type {\n",
              "        vertical-align: middle;\n",
              "    }\n",
              "\n",
              "    .dataframe tbody tr th {\n",
              "        vertical-align: top;\n",
              "    }\n",
              "\n",
              "    .dataframe thead th {\n",
              "        text-align: right;\n",
              "    }\n",
              "</style>\n",
              "<table border=\"1\" class=\"dataframe\">\n",
              "  <thead>\n",
              "    <tr style=\"text-align: right;\">\n",
              "      <th></th>\n",
              "      <th>mean_fit_time</th>\n",
              "      <th>std_fit_time</th>\n",
              "      <th>mean_score_time</th>\n",
              "      <th>std_score_time</th>\n",
              "      <th>split0_test_score</th>\n",
              "      <th>split1_test_score</th>\n",
              "      <th>split2_test_score</th>\n",
              "      <th>mean_test_score</th>\n",
              "      <th>std_test_score</th>\n",
              "      <th>rank_test_score</th>\n",
              "      <th>split0_train_score</th>\n",
              "      <th>split1_train_score</th>\n",
              "      <th>split2_train_score</th>\n",
              "      <th>mean_train_score</th>\n",
              "      <th>std_train_score</th>\n",
              "      <th>score_diff</th>\n",
              "    </tr>\n",
              "    <tr>\n",
              "      <th>param_clf</th>\n",
              "      <th></th>\n",
              "      <th></th>\n",
              "      <th></th>\n",
              "      <th></th>\n",
              "      <th></th>\n",
              "      <th></th>\n",
              "      <th></th>\n",
              "      <th></th>\n",
              "      <th></th>\n",
              "      <th></th>\n",
              "      <th></th>\n",
              "      <th></th>\n",
              "      <th></th>\n",
              "      <th></th>\n",
              "      <th></th>\n",
              "      <th></th>\n",
              "    </tr>\n",
              "  </thead>\n",
              "  <tbody>\n",
              "    <tr>\n",
              "      <th>LogisticRegression(C=1.0, class_weight=None, dual=False, fit_intercept=True,\\n                   intercept_scaling=1, l1_ratio=None, max_iter=100,\\n                   multi_class='auto', n_jobs=None, penalty='l2',\\n                   random_state=None, solver='liblinear', tol=0.0001, verbose=0,\\n                   warm_start=False)</th>\n",
              "      <td>0.698447</td>\n",
              "      <td>0.014972</td>\n",
              "      <td>0.081698</td>\n",
              "      <td>0.004347</td>\n",
              "      <td>0.368018</td>\n",
              "      <td>0.384076</td>\n",
              "      <td>0.364815</td>\n",
              "      <td>0.372303</td>\n",
              "      <td>0.009299</td>\n",
              "      <td>42.354167</td>\n",
              "      <td>0.592335</td>\n",
              "      <td>0.588273</td>\n",
              "      <td>0.594865</td>\n",
              "      <td>0.591824</td>\n",
              "      <td>0.003601</td>\n",
              "      <td>-0.219521</td>\n",
              "    </tr>\n",
              "    <tr>\n",
              "      <th>MultinomialNB(alpha=1.0, class_prior=None, fit_prior=True)</th>\n",
              "      <td>0.426689</td>\n",
              "      <td>0.010268</td>\n",
              "      <td>0.082368</td>\n",
              "      <td>0.005559</td>\n",
              "      <td>0.397746</td>\n",
              "      <td>0.414992</td>\n",
              "      <td>0.393989</td>\n",
              "      <td>0.402242</td>\n",
              "      <td>0.009452</td>\n",
              "      <td>33.500000</td>\n",
              "      <td>0.792142</td>\n",
              "      <td>0.794020</td>\n",
              "      <td>0.799792</td>\n",
              "      <td>0.795318</td>\n",
              "      <td>0.004008</td>\n",
              "      <td>-0.393076</td>\n",
              "    </tr>\n",
              "    <tr>\n",
              "      <th>RandomForestClassifier(bootstrap=True, ccp_alpha=0.0, class_weight=None,\\n                       criterion='gini', max_depth=None, max_features='auto',\\n                       max_leaf_nodes=None, max_samples=None,\\n                       min_impurity_decrease=0.0, min_impurity_split=None,\\n                       min_samples_leaf=1, min_samples_split=3,\\n                       min_weight_fraction_leaf=0.0, n_estimators=100,\\n                       n_jobs=None, oob_score=False, random_state=None,\\n                       verbose=0, warm_start=False)</th>\n",
              "      <td>4.368980</td>\n",
              "      <td>0.033507</td>\n",
              "      <td>0.227946</td>\n",
              "      <td>0.004969</td>\n",
              "      <td>0.364476</td>\n",
              "      <td>0.362846</td>\n",
              "      <td>0.359497</td>\n",
              "      <td>0.362273</td>\n",
              "      <td>0.003833</td>\n",
              "      <td>58.583333</td>\n",
              "      <td>0.999140</td>\n",
              "      <td>0.999479</td>\n",
              "      <td>0.999547</td>\n",
              "      <td>0.999389</td>\n",
              "      <td>0.000213</td>\n",
              "      <td>-0.637116</td>\n",
              "    </tr>\n",
              "  </tbody>\n",
              "</table>\n",
              "</div>"
            ],
            "text/plain": [
              "                                                    mean_fit_time  ...  score_diff\n",
              "param_clf                                                          ...            \n",
              "LogisticRegression(C=1.0, class_weight=None, du...       0.698447  ...   -0.219521\n",
              "MultinomialNB(alpha=1.0, class_prior=None, fit_...       0.426689  ...   -0.393076\n",
              "RandomForestClassifier(bootstrap=True, ccp_alph...       4.368980  ...   -0.637116\n",
              "\n",
              "[3 rows x 16 columns]"
            ]
          },
          "metadata": {
            "tags": []
          },
          "execution_count": 59
        }
      ]
    },
    {
      "cell_type": "code",
      "metadata": {
        "colab": {
          "base_uri": "https://localhost:8080/",
          "height": 145
        },
        "id": "QcyMcRMtd7vT",
        "outputId": "e5019e54-a250-4598-ffa9-047c58717939"
      },
      "source": [
        "pd.DataFrame(grid_search.best_params_)"
      ],
      "execution_count": 60,
      "outputs": [
        {
          "output_type": "execute_result",
          "data": {
            "text/html": [
              "<div>\n",
              "<style scoped>\n",
              "    .dataframe tbody tr th:only-of-type {\n",
              "        vertical-align: middle;\n",
              "    }\n",
              "\n",
              "    .dataframe tbody tr th {\n",
              "        vertical-align: top;\n",
              "    }\n",
              "\n",
              "    .dataframe thead th {\n",
              "        text-align: right;\n",
              "    }\n",
              "</style>\n",
              "<table border=\"1\" class=\"dataframe\">\n",
              "  <thead>\n",
              "    <tr style=\"text-align: right;\">\n",
              "      <th></th>\n",
              "      <th>clf</th>\n",
              "      <th>clf__C</th>\n",
              "      <th>clf__penalty</th>\n",
              "      <th>vect__max_df</th>\n",
              "      <th>vect__max_features</th>\n",
              "      <th>vect__ngram_range</th>\n",
              "    </tr>\n",
              "  </thead>\n",
              "  <tbody>\n",
              "    <tr>\n",
              "      <th>0</th>\n",
              "      <td>LogisticRegression(C=1.0, class_weight=None, d...</td>\n",
              "      <td>1.0</td>\n",
              "      <td>l2</td>\n",
              "      <td>0.9</td>\n",
              "      <td>5000</td>\n",
              "      <td>1</td>\n",
              "    </tr>\n",
              "    <tr>\n",
              "      <th>1</th>\n",
              "      <td>LogisticRegression(C=1.0, class_weight=None, d...</td>\n",
              "      <td>1.0</td>\n",
              "      <td>l2</td>\n",
              "      <td>0.9</td>\n",
              "      <td>5000</td>\n",
              "      <td>2</td>\n",
              "    </tr>\n",
              "  </tbody>\n",
              "</table>\n",
              "</div>"
            ],
            "text/plain": [
              "                                                 clf  ...  vect__ngram_range\n",
              "0  LogisticRegression(C=1.0, class_weight=None, d...  ...                  1\n",
              "1  LogisticRegression(C=1.0, class_weight=None, d...  ...                  2\n",
              "\n",
              "[2 rows x 6 columns]"
            ]
          },
          "metadata": {
            "tags": []
          },
          "execution_count": 60
        }
      ]
    },
    {
      "cell_type": "markdown",
      "metadata": {
        "id": "0fXTRveeQbrH"
      },
      "source": [
        "<a id='downsampled'></a>\n",
        "______\n",
        "# Multinomial Naive Bayes with Downsampling and Best Parameters\n",
        "_____"
      ]
    },
    {
      "cell_type": "markdown",
      "metadata": {
        "id": "bULYg4l2RFpq"
      },
      "source": [
        "____\n",
        "### Vectorizing MNB with Downsampling\n",
        "____"
      ]
    },
    {
      "cell_type": "code",
      "metadata": {
        "colab": {
          "base_uri": "https://localhost:8080/"
        },
        "id": "ftqX5JNJQa4k",
        "outputId": "259cdd1c-b991-4118-8294-84e751735cf8"
      },
      "source": [
        "# Instantiate CountVectorizer()\n",
        "cvec = CountVectorizer(max_df = 1.0, max_features = 500, \n",
        "                       ngram_range = (1,3), stop_words = 'english')\n",
        "\n",
        "# fit CountVectorizer()\n",
        "cvec.fit(X_train)"
      ],
      "execution_count": 104,
      "outputs": [
        {
          "output_type": "execute_result",
          "data": {
            "text/plain": [
              "CountVectorizer(analyzer='word', binary=False, decode_error='strict',\n",
              "                dtype=<class 'numpy.int64'>, encoding='utf-8', input='content',\n",
              "                lowercase=True, max_df=1.0, max_features=500, min_df=1,\n",
              "                ngram_range=(1, 3), preprocessor=None, stop_words='english',\n",
              "                strip_accents=None, token_pattern='(?u)\\\\b\\\\w\\\\w+\\\\b',\n",
              "                tokenizer=None, vocabulary=None)"
            ]
          },
          "metadata": {
            "tags": []
          },
          "execution_count": 104
        }
      ]
    },
    {
      "cell_type": "code",
      "metadata": {
        "id": "6ozTOXTPQ9lK"
      },
      "source": [
        "# Transform the corpus on training data\n",
        "X_train = cvec.transform(X_train)\n",
        "X_test = cvec.transform(X_test)"
      ],
      "execution_count": 105,
      "outputs": []
    },
    {
      "cell_type": "markdown",
      "metadata": {
        "id": "mKT17LTdRPX_"
      },
      "source": [
        "____\n",
        "### Fitting and Scoring MNB with Downsampling\n",
        "____"
      ]
    },
    {
      "cell_type": "code",
      "metadata": {
        "id": "fjsJpMuwRP1P"
      },
      "source": [
        "mnb = MultinomialNB(alpha = 1.0)\n",
        "mnb.fit(X_train, y_train)\n",
        "train_preds = mnb.predict(X_train)\n",
        "preds = mnb.predict(X_test)"
      ],
      "execution_count": 106,
      "outputs": []
    },
    {
      "cell_type": "code",
      "metadata": {
        "id": "wbNMZy97SKUv"
      },
      "source": [
        "# Testing Score\n",
        "score = round(metrics.f1_score(y_test, preds, average = 'macro') * 100, 2)\n",
        "\n",
        "# Training Score\n",
        "score_train = round(metrics.f1_score(y_train, train_preds, average = 'macro') * 100, 2)"
      ],
      "execution_count": 107,
      "outputs": []
    },
    {
      "cell_type": "code",
      "metadata": {
        "colab": {
          "base_uri": "https://localhost:8080/",
          "height": 80
        },
        "id": "rkrWh-lWUluC",
        "outputId": "48eb1210-30fd-482f-a617-8f95dfb46ea2"
      },
      "source": [
        "# Combine Training and Test Scores into a Dataframe\n",
        "\n",
        "def score_framer( model_name_str, score_train, score_test):\n",
        "\n",
        "    # Takes in score_train, a numeric value\n",
        "    # score_test, a numeric value\n",
        "    # model_name_str, create your own name of model in string format.\n",
        "    \n",
        "    # create a list of training and test score\n",
        "    score_list = [score_train, score_test]\n",
        "    # list of column headers\n",
        "    key_list = ['train_score', 'test_score']\n",
        "    # create a dictionary of both lists with key_list as keys\n",
        "    score_dict = dict(zip(key_list, score_list))\n",
        "    # create a df out of dict\n",
        "    score_df = pd.DataFrame(score_dict, index = [0])\n",
        "    # create model name column\n",
        "    score_df['model_name'] = model_name_str\n",
        "    # reorg columns\n",
        "    score_df = score_df[['model_name', 'train_score', 'test_score']]\n",
        "    # return df\n",
        "    return score_df\n",
        "\n",
        "f1_scores_score_mnb_down = score_framer('MNB down', score_train, score)\n",
        "f1_scores_score_mnb_down"
      ],
      "execution_count": 108,
      "outputs": [
        {
          "output_type": "execute_result",
          "data": {
            "text/html": [
              "<div>\n",
              "<style scoped>\n",
              "    .dataframe tbody tr th:only-of-type {\n",
              "        vertical-align: middle;\n",
              "    }\n",
              "\n",
              "    .dataframe tbody tr th {\n",
              "        vertical-align: top;\n",
              "    }\n",
              "\n",
              "    .dataframe thead th {\n",
              "        text-align: right;\n",
              "    }\n",
              "</style>\n",
              "<table border=\"1\" class=\"dataframe\">\n",
              "  <thead>\n",
              "    <tr style=\"text-align: right;\">\n",
              "      <th></th>\n",
              "      <th>model_name</th>\n",
              "      <th>train_score</th>\n",
              "      <th>test_score</th>\n",
              "    </tr>\n",
              "  </thead>\n",
              "  <tbody>\n",
              "    <tr>\n",
              "      <th>0</th>\n",
              "      <td>MNB down</td>\n",
              "      <td>55.8</td>\n",
              "      <td>41.1</td>\n",
              "    </tr>\n",
              "  </tbody>\n",
              "</table>\n",
              "</div>"
            ],
            "text/plain": [
              "  model_name  train_score  test_score\n",
              "0   MNB down         55.8        41.1"
            ]
          },
          "metadata": {
            "tags": []
          },
          "execution_count": 108
        }
      ]
    },
    {
      "cell_type": "markdown",
      "metadata": {
        "id": "HInvEe2ORdNm"
      },
      "source": [
        "<a id='all'></a>\n",
        "___\n",
        "# Multinomial Naive Bayes with All Observations and Best Parameters\n",
        "_____"
      ]
    },
    {
      "cell_type": "markdown",
      "metadata": {
        "id": "QYwTEJpIKiEZ"
      },
      "source": [
        "_____\n",
        "### Reading in Data without Downsampling\n",
        "____"
      ]
    },
    {
      "cell_type": "code",
      "metadata": {
        "id": "CMy-4pQqKfvz"
      },
      "source": [
        "wine_df = pd.read_csv('https://raw.githubusercontent.com/JamesRonsonOp/varietal_predictor/main/data/003_preprocessed_all_data.csv')"
      ],
      "execution_count": 125,
      "outputs": []
    },
    {
      "cell_type": "code",
      "metadata": {
        "colab": {
          "base_uri": "https://localhost:8080/"
        },
        "id": "hjokjQLhVezT",
        "outputId": "6cc1e170-7124-4f78-dae5-105fb27c6970"
      },
      "source": [
        "wine_df['varietal'].value_counts(normalize = True)"
      ],
      "execution_count": 158,
      "outputs": [
        {
          "output_type": "execute_result",
          "data": {
            "text/plain": [
              "Cabernet Sauvignon    0.206343\n",
              "Pinot Noir            0.165533\n",
              "Chardonnay            0.146336\n",
              "Riesling              0.064609\n",
              "Syrah                 0.062531\n",
              "Sauvignon Blanc       0.061703\n",
              "Merlot                0.039194\n",
              "Nebbiolo              0.035216\n",
              "Zinfandel             0.034266\n",
              "Sangiovese            0.033343\n",
              "Malbec                0.033207\n",
              "Tempranillo           0.030125\n",
              "Gruner Veltliner      0.016237\n",
              "Pinot Grigio          0.013277\n",
              "Gewurztraminer        0.012721\n",
              "Viognier              0.012476\n",
              "Grenache              0.008214\n",
              "Glera                 0.008091\n",
              "Chenin Blanc          0.007372\n",
              "Albarino              0.005892\n",
              "Garganega             0.003313\n",
              "Name: varietal, dtype: float64"
            ]
          },
          "metadata": {
            "tags": []
          },
          "execution_count": 158
        }
      ]
    },
    {
      "cell_type": "code",
      "metadata": {
        "id": "X3EWLjWXHy1e"
      },
      "source": [
        "X = wine_df['parsed']\n",
        "y = wine_df['varietal']"
      ],
      "execution_count": 130,
      "outputs": []
    },
    {
      "cell_type": "code",
      "metadata": {
        "id": "wJulMzbBHy1f"
      },
      "source": [
        "X_train, X_test, y_train, y_test = train_test_split(X, y,\n",
        "                                                   test_size = .33, \n",
        "                                                   stratify = y, \n",
        "                                                   random_state = 42)"
      ],
      "execution_count": 131,
      "outputs": []
    },
    {
      "cell_type": "markdown",
      "metadata": {
        "id": "0WZUs4ZkHy1f"
      },
      "source": [
        "\n",
        "____\n",
        "### Vectorizing MNB with All Observations\n",
        "____\n",
        "\n"
      ]
    },
    {
      "cell_type": "code",
      "metadata": {
        "colab": {
          "base_uri": "https://localhost:8080/"
        },
        "id": "wvaTlcIBHy1f",
        "outputId": "d48cad1a-e1f1-416a-f526-7fdfd184a1e3"
      },
      "source": [
        "# Instantiate CountVectorizer()\n",
        "cvec = CountVectorizer(max_df = 1.0, max_features = 500, \n",
        "                       ngram_range = (1,3), stop_words = 'english')\n",
        "\n",
        "# fit CountVectorizer()\n",
        "cvec.fit(X_train)"
      ],
      "execution_count": 132,
      "outputs": [
        {
          "output_type": "execute_result",
          "data": {
            "text/plain": [
              "CountVectorizer(analyzer='word', binary=False, decode_error='strict',\n",
              "                dtype=<class 'numpy.int64'>, encoding='utf-8', input='content',\n",
              "                lowercase=True, max_df=1.0, max_features=500, min_df=1,\n",
              "                ngram_range=(1, 3), preprocessor=None, stop_words='english',\n",
              "                strip_accents=None, token_pattern='(?u)\\\\b\\\\w\\\\w+\\\\b',\n",
              "                tokenizer=None, vocabulary=None)"
            ]
          },
          "metadata": {
            "tags": []
          },
          "execution_count": 132
        }
      ]
    },
    {
      "cell_type": "code",
      "metadata": {
        "id": "XGmewI2BHy1g"
      },
      "source": [
        "# Transform the corpus on training data\n",
        "X_train = cvec.transform(X_train)\n",
        "X_test = cvec.transform(X_test)"
      ],
      "execution_count": 133,
      "outputs": []
    },
    {
      "cell_type": "markdown",
      "metadata": {
        "id": "59g76X_vHy1e"
      },
      "source": [
        "\n",
        "______\n",
        "### Fitting and Scoring MNB with All Observations\n",
        "______\n"
      ]
    },
    {
      "cell_type": "code",
      "metadata": {
        "id": "tXVnZr18Hy1j"
      },
      "source": [
        "mnb = MultinomialNB(alpha = 1.0)\n",
        "mnb.fit(X_train, y_train)\n",
        "train_preds = mnb.predict(X_train)\n",
        "preds = mnb.predict(X_test)"
      ],
      "execution_count": 134,
      "outputs": []
    },
    {
      "cell_type": "code",
      "metadata": {
        "colab": {
          "base_uri": "https://localhost:8080/",
          "height": 80
        },
        "id": "2FYCBZzpHy1j",
        "outputId": "a7d620e6-ac6a-47ed-9152-ad22f6de6cc3"
      },
      "source": [
        "# Testing Score\n",
        "score = round(metrics.f1_score(y_test, preds, average = 'macro') * 100, 2)\n",
        "\n",
        "# Training Score\n",
        "score_train = round(metrics.f1_score(y_train, train_preds, average = 'macro') * 100, 2)\n",
        "\n",
        "f1_score_mnb_all = score_framer('MNB All', score_train, score)\n",
        "f1_score_mnb_all"
      ],
      "execution_count": 135,
      "outputs": [
        {
          "output_type": "execute_result",
          "data": {
            "text/html": [
              "<div>\n",
              "<style scoped>\n",
              "    .dataframe tbody tr th:only-of-type {\n",
              "        vertical-align: middle;\n",
              "    }\n",
              "\n",
              "    .dataframe tbody tr th {\n",
              "        vertical-align: top;\n",
              "    }\n",
              "\n",
              "    .dataframe thead th {\n",
              "        text-align: right;\n",
              "    }\n",
              "</style>\n",
              "<table border=\"1\" class=\"dataframe\">\n",
              "  <thead>\n",
              "    <tr style=\"text-align: right;\">\n",
              "      <th></th>\n",
              "      <th>model_name</th>\n",
              "      <th>train_score</th>\n",
              "      <th>test_score</th>\n",
              "    </tr>\n",
              "  </thead>\n",
              "  <tbody>\n",
              "    <tr>\n",
              "      <th>0</th>\n",
              "      <td>MNB All</td>\n",
              "      <td>51.16</td>\n",
              "      <td>47.21</td>\n",
              "    </tr>\n",
              "  </tbody>\n",
              "</table>\n",
              "</div>"
            ],
            "text/plain": [
              "  model_name  train_score  test_score\n",
              "0    MNB All        51.16       47.21"
            ]
          },
          "metadata": {
            "tags": []
          },
          "execution_count": 135
        }
      ]
    },
    {
      "cell_type": "code",
      "metadata": {
        "colab": {
          "base_uri": "https://localhost:8080/",
          "height": 210
        },
        "id": "QPoaAlforxao",
        "outputId": "87f5658b-00c6-4a3a-8c95-bdf31241e29c"
      },
      "source": [
        "train_metrics = metrics.classification_report(y_train, train_preds, \n",
        "                                                 digits = 20, \n",
        "                                                 output_dict = True)\n",
        "train_metrics = pd.DataFrame(train_metrics)\n",
        "train_metrics\n"
      ],
      "execution_count": 136,
      "outputs": [
        {
          "output_type": "execute_result",
          "data": {
            "text/html": [
              "<div>\n",
              "<style scoped>\n",
              "    .dataframe tbody tr th:only-of-type {\n",
              "        vertical-align: middle;\n",
              "    }\n",
              "\n",
              "    .dataframe tbody tr th {\n",
              "        vertical-align: top;\n",
              "    }\n",
              "\n",
              "    .dataframe thead th {\n",
              "        text-align: right;\n",
              "    }\n",
              "</style>\n",
              "<table border=\"1\" class=\"dataframe\">\n",
              "  <thead>\n",
              "    <tr style=\"text-align: right;\">\n",
              "      <th></th>\n",
              "      <th>Albarino</th>\n",
              "      <th>Cabernet Sauvignon</th>\n",
              "      <th>Chardonnay</th>\n",
              "      <th>Chenin Blanc</th>\n",
              "      <th>Garganega</th>\n",
              "      <th>Gewurztraminer</th>\n",
              "      <th>Glera</th>\n",
              "      <th>Grenache</th>\n",
              "      <th>Gruner Veltliner</th>\n",
              "      <th>Malbec</th>\n",
              "      <th>Merlot</th>\n",
              "      <th>Nebbiolo</th>\n",
              "      <th>Pinot Grigio</th>\n",
              "      <th>Pinot Noir</th>\n",
              "      <th>Riesling</th>\n",
              "      <th>Sangiovese</th>\n",
              "      <th>Sauvignon Blanc</th>\n",
              "      <th>Syrah</th>\n",
              "      <th>Tempranillo</th>\n",
              "      <th>Viognier</th>\n",
              "      <th>Zinfandel</th>\n",
              "      <th>accuracy</th>\n",
              "      <th>macro avg</th>\n",
              "      <th>weighted avg</th>\n",
              "    </tr>\n",
              "  </thead>\n",
              "  <tbody>\n",
              "    <tr>\n",
              "      <th>precision</th>\n",
              "      <td>0.293750</td>\n",
              "      <td>0.731602</td>\n",
              "      <td>0.739593</td>\n",
              "      <td>0.371324</td>\n",
              "      <td>0.491525</td>\n",
              "      <td>0.544041</td>\n",
              "      <td>0.522158</td>\n",
              "      <td>0.202847</td>\n",
              "      <td>0.466281</td>\n",
              "      <td>0.521880</td>\n",
              "      <td>0.510236</td>\n",
              "      <td>0.659760</td>\n",
              "      <td>0.543624</td>\n",
              "      <td>0.725909</td>\n",
              "      <td>0.685032</td>\n",
              "      <td>0.576779</td>\n",
              "      <td>0.698666</td>\n",
              "      <td>0.529795</td>\n",
              "      <td>0.354328</td>\n",
              "      <td>0.343590</td>\n",
              "      <td>0.538198</td>\n",
              "      <td>0.643411</td>\n",
              "      <td>0.526234</td>\n",
              "      <td>0.646744</td>\n",
              "    </tr>\n",
              "    <tr>\n",
              "      <th>recall</th>\n",
              "      <td>0.484536</td>\n",
              "      <td>0.716586</td>\n",
              "      <td>0.809333</td>\n",
              "      <td>0.277473</td>\n",
              "      <td>0.355828</td>\n",
              "      <td>0.334395</td>\n",
              "      <td>0.679198</td>\n",
              "      <td>0.140741</td>\n",
              "      <td>0.604245</td>\n",
              "      <td>0.392923</td>\n",
              "      <td>0.335057</td>\n",
              "      <td>0.696203</td>\n",
              "      <td>0.494656</td>\n",
              "      <td>0.710981</td>\n",
              "      <td>0.729069</td>\n",
              "      <td>0.467801</td>\n",
              "      <td>0.533005</td>\n",
              "      <td>0.579067</td>\n",
              "      <td>0.616678</td>\n",
              "      <td>0.217532</td>\n",
              "      <td>0.649911</td>\n",
              "      <td>0.643411</td>\n",
              "      <td>0.515486</td>\n",
              "      <td>0.643411</td>\n",
              "    </tr>\n",
              "    <tr>\n",
              "      <th>f1-score</th>\n",
              "      <td>0.365759</td>\n",
              "      <td>0.724016</td>\n",
              "      <td>0.772893</td>\n",
              "      <td>0.317610</td>\n",
              "      <td>0.412811</td>\n",
              "      <td>0.414201</td>\n",
              "      <td>0.590414</td>\n",
              "      <td>0.166181</td>\n",
              "      <td>0.526373</td>\n",
              "      <td>0.448312</td>\n",
              "      <td>0.404494</td>\n",
              "      <td>0.677492</td>\n",
              "      <td>0.517986</td>\n",
              "      <td>0.718367</td>\n",
              "      <td>0.706365</td>\n",
              "      <td>0.516605</td>\n",
              "      <td>0.604694</td>\n",
              "      <td>0.553336</td>\n",
              "      <td>0.450061</td>\n",
              "      <td>0.266402</td>\n",
              "      <td>0.588803</td>\n",
              "      <td>0.643411</td>\n",
              "      <td>0.511580</td>\n",
              "      <td>0.640543</td>\n",
              "    </tr>\n",
              "    <tr>\n",
              "      <th>support</th>\n",
              "      <td>291.000000</td>\n",
              "      <td>10183.000000</td>\n",
              "      <td>7222.000000</td>\n",
              "      <td>364.000000</td>\n",
              "      <td>163.000000</td>\n",
              "      <td>628.000000</td>\n",
              "      <td>399.000000</td>\n",
              "      <td>405.000000</td>\n",
              "      <td>801.000000</td>\n",
              "      <td>1639.000000</td>\n",
              "      <td>1934.000000</td>\n",
              "      <td>1738.000000</td>\n",
              "      <td>655.000000</td>\n",
              "      <td>8169.000000</td>\n",
              "      <td>3189.000000</td>\n",
              "      <td>1646.000000</td>\n",
              "      <td>3045.000000</td>\n",
              "      <td>3086.000000</td>\n",
              "      <td>1487.000000</td>\n",
              "      <td>616.000000</td>\n",
              "      <td>1691.000000</td>\n",
              "      <td>0.643411</td>\n",
              "      <td>49351.000000</td>\n",
              "      <td>49351.000000</td>\n",
              "    </tr>\n",
              "  </tbody>\n",
              "</table>\n",
              "</div>"
            ],
            "text/plain": [
              "             Albarino  Cabernet Sauvignon  ...     macro avg  weighted avg\n",
              "precision    0.293750            0.731602  ...      0.526234      0.646744\n",
              "recall       0.484536            0.716586  ...      0.515486      0.643411\n",
              "f1-score     0.365759            0.724016  ...      0.511580      0.640543\n",
              "support    291.000000        10183.000000  ...  49351.000000  49351.000000\n",
              "\n",
              "[4 rows x 24 columns]"
            ]
          },
          "metadata": {
            "tags": []
          },
          "execution_count": 136
        }
      ]
    },
    {
      "cell_type": "code",
      "metadata": {
        "colab": {
          "base_uri": "https://localhost:8080/",
          "height": 210
        },
        "id": "_5iDLjB1J_x5",
        "outputId": "90748563-fbea-457c-a960-364454049a45"
      },
      "source": [
        "test_metrics = metrics.classification_report(y_test, preds, \n",
        "                                             digits = 20, \n",
        "                                             output_dict = True)\n",
        "\n",
        "train_metrics = pd.DataFrame(train_metrics)\n",
        "train_metrics"
      ],
      "execution_count": 147,
      "outputs": [
        {
          "output_type": "execute_result",
          "data": {
            "text/html": [
              "<div>\n",
              "<style scoped>\n",
              "    .dataframe tbody tr th:only-of-type {\n",
              "        vertical-align: middle;\n",
              "    }\n",
              "\n",
              "    .dataframe tbody tr th {\n",
              "        vertical-align: top;\n",
              "    }\n",
              "\n",
              "    .dataframe thead th {\n",
              "        text-align: right;\n",
              "    }\n",
              "</style>\n",
              "<table border=\"1\" class=\"dataframe\">\n",
              "  <thead>\n",
              "    <tr style=\"text-align: right;\">\n",
              "      <th></th>\n",
              "      <th>Albarino</th>\n",
              "      <th>Cabernet Sauvignon</th>\n",
              "      <th>Chardonnay</th>\n",
              "      <th>Chenin Blanc</th>\n",
              "      <th>Garganega</th>\n",
              "      <th>Gewurztraminer</th>\n",
              "      <th>Glera</th>\n",
              "      <th>Grenache</th>\n",
              "      <th>Gruner Veltliner</th>\n",
              "      <th>Malbec</th>\n",
              "      <th>Merlot</th>\n",
              "      <th>Nebbiolo</th>\n",
              "      <th>Pinot Grigio</th>\n",
              "      <th>Pinot Noir</th>\n",
              "      <th>Riesling</th>\n",
              "      <th>Sangiovese</th>\n",
              "      <th>Sauvignon Blanc</th>\n",
              "      <th>Syrah</th>\n",
              "      <th>Tempranillo</th>\n",
              "      <th>Viognier</th>\n",
              "      <th>Zinfandel</th>\n",
              "      <th>accuracy</th>\n",
              "      <th>macro avg</th>\n",
              "      <th>weighted avg</th>\n",
              "    </tr>\n",
              "  </thead>\n",
              "  <tbody>\n",
              "    <tr>\n",
              "      <th>precision</th>\n",
              "      <td>0.293750</td>\n",
              "      <td>0.731602</td>\n",
              "      <td>0.739593</td>\n",
              "      <td>0.371324</td>\n",
              "      <td>0.491525</td>\n",
              "      <td>0.544041</td>\n",
              "      <td>0.522158</td>\n",
              "      <td>0.202847</td>\n",
              "      <td>0.466281</td>\n",
              "      <td>0.521880</td>\n",
              "      <td>0.510236</td>\n",
              "      <td>0.659760</td>\n",
              "      <td>0.543624</td>\n",
              "      <td>0.725909</td>\n",
              "      <td>0.685032</td>\n",
              "      <td>0.576779</td>\n",
              "      <td>0.698666</td>\n",
              "      <td>0.529795</td>\n",
              "      <td>0.354328</td>\n",
              "      <td>0.343590</td>\n",
              "      <td>0.538198</td>\n",
              "      <td>0.643411</td>\n",
              "      <td>0.526234</td>\n",
              "      <td>0.646744</td>\n",
              "    </tr>\n",
              "    <tr>\n",
              "      <th>recall</th>\n",
              "      <td>0.484536</td>\n",
              "      <td>0.716586</td>\n",
              "      <td>0.809333</td>\n",
              "      <td>0.277473</td>\n",
              "      <td>0.355828</td>\n",
              "      <td>0.334395</td>\n",
              "      <td>0.679198</td>\n",
              "      <td>0.140741</td>\n",
              "      <td>0.604245</td>\n",
              "      <td>0.392923</td>\n",
              "      <td>0.335057</td>\n",
              "      <td>0.696203</td>\n",
              "      <td>0.494656</td>\n",
              "      <td>0.710981</td>\n",
              "      <td>0.729069</td>\n",
              "      <td>0.467801</td>\n",
              "      <td>0.533005</td>\n",
              "      <td>0.579067</td>\n",
              "      <td>0.616678</td>\n",
              "      <td>0.217532</td>\n",
              "      <td>0.649911</td>\n",
              "      <td>0.643411</td>\n",
              "      <td>0.515486</td>\n",
              "      <td>0.643411</td>\n",
              "    </tr>\n",
              "    <tr>\n",
              "      <th>f1-score</th>\n",
              "      <td>0.365759</td>\n",
              "      <td>0.724016</td>\n",
              "      <td>0.772893</td>\n",
              "      <td>0.317610</td>\n",
              "      <td>0.412811</td>\n",
              "      <td>0.414201</td>\n",
              "      <td>0.590414</td>\n",
              "      <td>0.166181</td>\n",
              "      <td>0.526373</td>\n",
              "      <td>0.448312</td>\n",
              "      <td>0.404494</td>\n",
              "      <td>0.677492</td>\n",
              "      <td>0.517986</td>\n",
              "      <td>0.718367</td>\n",
              "      <td>0.706365</td>\n",
              "      <td>0.516605</td>\n",
              "      <td>0.604694</td>\n",
              "      <td>0.553336</td>\n",
              "      <td>0.450061</td>\n",
              "      <td>0.266402</td>\n",
              "      <td>0.588803</td>\n",
              "      <td>0.643411</td>\n",
              "      <td>0.511580</td>\n",
              "      <td>0.640543</td>\n",
              "    </tr>\n",
              "    <tr>\n",
              "      <th>support</th>\n",
              "      <td>291.000000</td>\n",
              "      <td>10183.000000</td>\n",
              "      <td>7222.000000</td>\n",
              "      <td>364.000000</td>\n",
              "      <td>163.000000</td>\n",
              "      <td>628.000000</td>\n",
              "      <td>399.000000</td>\n",
              "      <td>405.000000</td>\n",
              "      <td>801.000000</td>\n",
              "      <td>1639.000000</td>\n",
              "      <td>1934.000000</td>\n",
              "      <td>1738.000000</td>\n",
              "      <td>655.000000</td>\n",
              "      <td>8169.000000</td>\n",
              "      <td>3189.000000</td>\n",
              "      <td>1646.000000</td>\n",
              "      <td>3045.000000</td>\n",
              "      <td>3086.000000</td>\n",
              "      <td>1487.000000</td>\n",
              "      <td>616.000000</td>\n",
              "      <td>1691.000000</td>\n",
              "      <td>0.643411</td>\n",
              "      <td>49351.000000</td>\n",
              "      <td>49351.000000</td>\n",
              "    </tr>\n",
              "  </tbody>\n",
              "</table>\n",
              "</div>"
            ],
            "text/plain": [
              "             Albarino  Cabernet Sauvignon  ...     macro avg  weighted avg\n",
              "precision    0.293750            0.731602  ...      0.526234      0.646744\n",
              "recall       0.484536            0.716586  ...      0.515486      0.643411\n",
              "f1-score     0.365759            0.724016  ...      0.511580      0.640543\n",
              "support    291.000000        10183.000000  ...  49351.000000  49351.000000\n",
              "\n",
              "[4 rows x 24 columns]"
            ]
          },
          "metadata": {
            "tags": []
          },
          "execution_count": 147
        }
      ]
    },
    {
      "cell_type": "markdown",
      "metadata": {
        "id": "VUqa-vTi-KN3"
      },
      "source": [
        "<a id='heatmap'></a>\n",
        "______\n",
        "#### Heatmap of Multinomial Naive Bayes"
      ]
    },
    {
      "cell_type": "code",
      "metadata": {
        "colab": {
          "base_uri": "https://localhost:8080/"
        },
        "id": "HRSJr2jnK-Nc",
        "outputId": "719c613d-897d-44e1-9772-4308eb0f5295"
      },
      "source": [
        "y_test.value_counts()"
      ],
      "execution_count": 137,
      "outputs": [
        {
          "output_type": "execute_result",
          "data": {
            "text/plain": [
              "Cabernet Sauvignon    5016\n",
              "Pinot Noir            4024\n",
              "Chardonnay            3557\n",
              "Riesling              1570\n",
              "Syrah                 1520\n",
              "Sauvignon Blanc       1500\n",
              "Merlot                 953\n",
              "Nebbiolo               856\n",
              "Zinfandel              833\n",
              "Sangiovese             810\n",
              "Malbec                 807\n",
              "Tempranillo            732\n",
              "Gruner Veltliner       395\n",
              "Pinot Grigio           323\n",
              "Gewurztraminer         309\n",
              "Viognier               303\n",
              "Grenache               200\n",
              "Glera                  197\n",
              "Chenin Blanc           179\n",
              "Albarino               143\n",
              "Garganega               81\n",
              "Name: varietal, dtype: int64"
            ]
          },
          "metadata": {
            "tags": []
          },
          "execution_count": 137
        }
      ]
    },
    {
      "cell_type": "code",
      "metadata": {
        "colab": {
          "base_uri": "https://localhost:8080/",
          "height": 604
        },
        "id": "h1eoyE6Nm1h8",
        "outputId": "c6faf42a-04fa-4fed-c987-87352ed25f0c"
      },
      "source": [
        "# Plot Heatmap of Predicted Values\n",
        "\n",
        "varietal_labels = [\n",
        "'Albarino', 'Cabernet Sauvignon', 'Chardonnay', 'Chenin Blanc', 'Garganega', \n",
        "'Gewurztraminer', 'Glera', 'Grenache', 'Gruner Veltliner', 'Malbec', 'Merlot', 'Nebbiolo', \n",
        "'Pinot Grigio', 'Pinot Noir', 'Riesling', 'Sangiovese', 'Sauvignon Blanc', 'Syrah', \n",
        "'Tempranillo', 'Viognier', 'Zinfandel'\n",
        "                ]\n",
        "\n",
        "\n",
        "plt.figure(figsize = (12,8))\n",
        "c_matrix = confusion_matrix(y_test, preds)\n",
        "sns.heatmap(c_matrix.T, square = True, annot = True, fmt = 'd', cbar = True)\n",
        "\n",
        "plt.xticks(np.arange(21), labels = varietal_labels, rotation = 90)\n",
        "plt.yticks(np.arange(21), labels = varietal_labels, rotation = 360)\n",
        "plt.xlabel('True Label')\n",
        "plt.ylabel('Predicted Label')\n",
        "plt.title('Heatmap Confusion Matrix');"
      ],
      "execution_count": 138,
      "outputs": [
        {
          "output_type": "display_data",
          "data": {
            "image/png": "[encoded data removed]",
            "text/plain": [
              "<Figure size 864x576 with 2 Axes>"
            ]
          },
          "metadata": {
            "tags": [],
            "needs_background": "light"
          }
        }
      ]
    },
    {
      "cell_type": "markdown",
      "metadata": {
        "id": "l1pDqrYUDgKZ"
      },
      "source": [
        "_____\n",
        "#### Interpretation of Heatmap\n",
        "_____\n",
        "There are a lot of misclassifications between Pinot Noir and Cabernet. These are the largest varietals so it is expected to happen frequently among the two if the classifier is having trouble distinguising between the two of them. I am going to have to go back and analyze the feature importance in Scattertext to see if I can mitigate these issues. I may have to do some other forms of feature importance identification as well. I will follow this same process with the white wines as well. "
      ]
    },
    {
      "cell_type": "markdown",
      "metadata": {
        "id": "jNGEDYFWHy1k"
      },
      "source": [
        "<a name=\"bootstrap\"></a>\n",
        "\n",
        "_______\n",
        "# Bootstrap Imbalanced Classes\n",
        "_______\n",
        "\n",
        "## SMOTE \n",
        "______\n",
        "\n",
        "\"SMOTE stands for **Synthetic Minority Oversampling Technique.** This is a statistical technique for **increasing the number of cases in your dataset in a balanced way.** The module works by generating new instances from existing minority cases that you supply as input. This implementation of SMOTE does not change the number of majority cases.\n",
        "\n",
        "The **new instances are not just copies** of existing minority cases; instead, the algorithm takes samples of the feature space for each target class and its nearest neighbors, and generates new examples that combine features of the target case with features of its neighbors. This approach increases the features available to each class and makes the samples more general.\n",
        "\n",
        "**SMOTE takes the entire dataset as an input, but it increases the percentage of only the minority cases.** For example, suppose you have an imbalanced dataset where just 1% of the cases have the target value A (the minority class), and 99% of the cases have the value B. To increase the percentage of minority cases to twice the previous percentage, you would enter 200 for SMOTE percentage in the module's properties.\"\n",
        "\n",
        "[Microsoft SMOTE Reference]('https://docs.microsoft.com/en-us/azure/machine-learning/studio-module-reference/smote#:~:text=SMOTE%20stands%20for%20Synthetic%20Minority,dataset%20in%20a%20balanced%20way.&text=SMOTE%20takes%20the%20entire%20dataset,of%20only%20the%20minority%20cases.')\n",
        "\n",
        "______________"
      ]
    },
    {
      "cell_type": "code",
      "metadata": {
        "id": "qbOoa83sHy1l"
      },
      "source": [
        "def smote_oversample(x, y):\n",
        "\n",
        "    # Instantiate Oversampler\n",
        "    oversample = SMOTE()\n",
        "    \n",
        "    # fit oversampler\n",
        "    x, y = oversample.fit_resample(x, y)\n",
        "    \n",
        "    # Counter creates a dict that summarizes the distribution\n",
        "    counter = Counter(y)\n",
        "\n",
        "    for key, value in counter.items():\n",
        "        \n",
        "        # create variable with percentage of samples of each variable \n",
        "        percent = round(value / len(y) * 100, 2)\n",
        "        \n",
        "    # create df of target labels\n",
        "    ovr_sampled = pd.DataFrame(counter.keys(), columns = ['target_label'])\n",
        "    # append number of samples to df\n",
        "    ovr_sampled['num_samples'] = counter.values()\n",
        "    # append percentage of samples to df\n",
        "    ovr_sampled['percent'] = percent\n",
        "\n",
        "    plt.bar(ovr_sampled['target_label'], ovr_sampled['percent'])\n",
        "    \n",
        "    plt.title('Class Labels as Percentage of Samples')\n",
        "    plt.xlabel('Class')\n",
        "    plt.ylabel('Percentage of Labels')\n",
        "    plt.xticks(rotation = 90)\n",
        "    plt.show(); \n",
        "    \n",
        "    # return df of sample distributions\n",
        "    print(ovr_sampled)\n",
        "    \n",
        "    return x, y"
      ],
      "execution_count": 139,
      "outputs": []
    },
    {
      "cell_type": "code",
      "metadata": {
        "scrolled": true,
        "colab": {
          "base_uri": "https://localhost:8080/",
          "height": 815
        },
        "id": "5HkfUVW3Hy1l",
        "outputId": "b430050c-9cf1-48e2-f729-5eb8aea8884d"
      },
      "source": [
        "XS_train, ys_train = smote_oversample(X_train, y_train)"
      ],
      "execution_count": 140,
      "outputs": [
        {
          "output_type": "stream",
          "text": [
            "/usr/local/lib/python3.7/dist-packages/sklearn/utils/deprecation.py:87: FutureWarning: Function safe_indexing is deprecated; safe_indexing is deprecated in version 0.22 and will be removed in version 0.24.\n",
            "  warnings.warn(msg, category=FutureWarning)\n"
          ],
          "name": "stderr"
        },
        {
          "output_type": "display_data",
          "data": {
            "image/png": "[encoded data removed]",
            "text/plain": [
              "<Figure size 432x288 with 1 Axes>"
            ]
          },
          "metadata": {
            "tags": [],
            "needs_background": "light"
          }
        },
        {
          "output_type": "stream",
          "text": [
            "          target_label  num_samples  percent\n",
            "0           Pinot Noir        10183     4.76\n",
            "1             Riesling        10183     4.76\n",
            "2   Cabernet Sauvignon        10183     4.76\n",
            "3      Sauvignon Blanc        10183     4.76\n",
            "4           Chardonnay        10183     4.76\n",
            "5                Syrah        10183     4.76\n",
            "6             Grenache        10183     4.76\n",
            "7     Gruner Veltliner        10183     4.76\n",
            "8             Viognier        10183     4.76\n",
            "9           Sangiovese        10183     4.76\n",
            "10              Merlot        10183     4.76\n",
            "11         Tempranillo        10183     4.76\n",
            "12            Albarino        10183     4.76\n",
            "13              Malbec        10183     4.76\n",
            "14           Zinfandel        10183     4.76\n",
            "15        Pinot Grigio        10183     4.76\n",
            "16            Nebbiolo        10183     4.76\n",
            "17      Gewurztraminer        10183     4.76\n",
            "18           Garganega        10183     4.76\n",
            "19               Glera        10183     4.76\n",
            "20        Chenin Blanc        10183     4.76\n"
          ],
          "name": "stdout"
        }
      ]
    },
    {
      "cell_type": "markdown",
      "metadata": {
        "id": "4FgC-OQ3l-Es"
      },
      "source": [
        "______\n",
        "### Fitting and Scoring MNB with SMOTE Applied\n",
        "______"
      ]
    },
    {
      "cell_type": "code",
      "metadata": {
        "id": "wjRUd6HlHy1l"
      },
      "source": [
        "smote_mnb = MultinomialNB(alpha = 1.0)\n",
        "smote_mnb.fit(XS_train, ys_train)\n",
        "smote_train_preds = smote_mnb.predict(XS_train)\n",
        "smote_preds = smote_mnb.predict(X_test)"
      ],
      "execution_count": 150,
      "outputs": []
    },
    {
      "cell_type": "code",
      "metadata": {
        "colab": {
          "base_uri": "https://localhost:8080/",
          "height": 80
        },
        "id": "jqlqfRL8Hy1l",
        "outputId": "72949377-535a-42e4-8cc7-06abba6bde90"
      },
      "source": [
        "# Testing Score\n",
        "score = round(metrics.f1_score(y_test, smote_preds, average = 'macro') * 100, 2)\n",
        "\n",
        "# Training Score\n",
        "score_train = round(metrics.f1_score(ys_train, smote_train_preds, average = 'macro') * 100, 2)\n",
        "\n",
        "f1_score_smote = score_framer('MNB SMOTE', score_train, score)\n",
        "f1_score_smote"
      ],
      "execution_count": 152,
      "outputs": [
        {
          "output_type": "execute_result",
          "data": {
            "text/html": [
              "<div>\n",
              "<style scoped>\n",
              "    .dataframe tbody tr th:only-of-type {\n",
              "        vertical-align: middle;\n",
              "    }\n",
              "\n",
              "    .dataframe tbody tr th {\n",
              "        vertical-align: top;\n",
              "    }\n",
              "\n",
              "    .dataframe thead th {\n",
              "        text-align: right;\n",
              "    }\n",
              "</style>\n",
              "<table border=\"1\" class=\"dataframe\">\n",
              "  <thead>\n",
              "    <tr style=\"text-align: right;\">\n",
              "      <th></th>\n",
              "      <th>model_name</th>\n",
              "      <th>train_score</th>\n",
              "      <th>test_score</th>\n",
              "    </tr>\n",
              "  </thead>\n",
              "  <tbody>\n",
              "    <tr>\n",
              "      <th>0</th>\n",
              "      <td>MNB SMOTE</td>\n",
              "      <td>51.53</td>\n",
              "      <td>45.75</td>\n",
              "    </tr>\n",
              "  </tbody>\n",
              "</table>\n",
              "</div>"
            ],
            "text/plain": [
              "  model_name  train_score  test_score\n",
              "0  MNB SMOTE        51.53       45.75"
            ]
          },
          "metadata": {
            "tags": []
          },
          "execution_count": 152
        }
      ]
    },
    {
      "cell_type": "code",
      "metadata": {
        "colab": {
          "base_uri": "https://localhost:8080/",
          "height": 604
        },
        "id": "bgSmt59rm9sw",
        "outputId": "e49706f1-acf0-4010-cfce-922dc51b201c"
      },
      "source": [
        "varietal_labels = [\n",
        "'Albarino', 'Cabernet Sauvignon', 'Chardonnay', 'Chenin Blanc', 'Garganega', \n",
        "'Gewurztraminer', 'Glera', 'Grenache', 'Gruner Veltliner', 'Malbec', 'Merlot', 'Nebbiolo', \n",
        "'Pinot Grigio', 'Pinot Noir', 'Riesling', 'Sangiovese', 'Sauvignon Blanc', 'Syrah', \n",
        "'Tempranillo', 'Viognier', 'Zinfandel'\n",
        "                ]\n",
        "\n",
        "\n",
        "plt.figure(figsize = (12,8))\n",
        "c_matrix = confusion_matrix(y_test, smote_preds)\n",
        "sns.heatmap(c_matrix.T, square = True, annot = True, fmt = 'd', cbar = True)\n",
        "\n",
        "plt.xticks(np.arange(21), labels = varietal_labels, rotation = 90)\n",
        "plt.yticks(np.arange(21), labels = varietal_labels, rotation = 360)\n",
        "plt.xlabel('True Label')\n",
        "plt.ylabel('Predicted Label')\n",
        "plt.title('Heatmap Confusion Matrix');"
      ],
      "execution_count": 155,
      "outputs": [
        {
          "output_type": "display_data",
          "data": {
            "image/png": "[encoded data removed]",
            "text/plain": [
              "<Figure size 864x576 with 2 Axes>"
            ]
          },
          "metadata": {
            "tags": [],
            "needs_background": "light"
          }
        }
      ]
    },
    {
      "cell_type": "markdown",
      "metadata": {
        "id": "eAmg0iBva0xq"
      },
      "source": [
        "<a name=\"compiled\"></a>\n",
        "____\n",
        "# Compiling All Model F1 Scores\n",
        "_____"
      ]
    },
    {
      "cell_type": "code",
      "metadata": {
        "id": "1XMFZEw_GSvu",
        "colab": {
          "base_uri": "https://localhost:8080/",
          "height": 142
        },
        "outputId": "a8dada1b-1496-4a22-f15c-4a53d1cf85e9"
      },
      "source": [
        "f1_df = pd.concat([f1_scores_score_mnb_down, f1_score_mnb_all, f1_score_smote])\n",
        "f1_df['tt_diff'] = f1_df['train_score'] - f1_df['test_score']\n",
        "f1_df.reset_index(drop = True, inplace = True)\n",
        "f1_df"
      ],
      "execution_count": 157,
      "outputs": [
        {
          "output_type": "execute_result",
          "data": {
            "text/html": [
              "<div>\n",
              "<style scoped>\n",
              "    .dataframe tbody tr th:only-of-type {\n",
              "        vertical-align: middle;\n",
              "    }\n",
              "\n",
              "    .dataframe tbody tr th {\n",
              "        vertical-align: top;\n",
              "    }\n",
              "\n",
              "    .dataframe thead th {\n",
              "        text-align: right;\n",
              "    }\n",
              "</style>\n",
              "<table border=\"1\" class=\"dataframe\">\n",
              "  <thead>\n",
              "    <tr style=\"text-align: right;\">\n",
              "      <th></th>\n",
              "      <th>model_name</th>\n",
              "      <th>train_score</th>\n",
              "      <th>test_score</th>\n",
              "      <th>tt_diff</th>\n",
              "    </tr>\n",
              "  </thead>\n",
              "  <tbody>\n",
              "    <tr>\n",
              "      <th>0</th>\n",
              "      <td>MNB down</td>\n",
              "      <td>55.80</td>\n",
              "      <td>41.10</td>\n",
              "      <td>14.70</td>\n",
              "    </tr>\n",
              "    <tr>\n",
              "      <th>1</th>\n",
              "      <td>MNB All</td>\n",
              "      <td>51.16</td>\n",
              "      <td>47.21</td>\n",
              "      <td>3.95</td>\n",
              "    </tr>\n",
              "    <tr>\n",
              "      <th>2</th>\n",
              "      <td>MNB SMOTE</td>\n",
              "      <td>51.53</td>\n",
              "      <td>45.75</td>\n",
              "      <td>5.78</td>\n",
              "    </tr>\n",
              "  </tbody>\n",
              "</table>\n",
              "</div>"
            ],
            "text/plain": [
              "  model_name  train_score  test_score  tt_diff\n",
              "0   MNB down        55.80       41.10    14.70\n",
              "1    MNB All        51.16       47.21     3.95\n",
              "2  MNB SMOTE        51.53       45.75     5.78"
            ]
          },
          "metadata": {
            "tags": []
          },
          "execution_count": 157
        }
      ]
    },
    {
      "cell_type": "markdown",
      "metadata": {
        "id": "v88aZ-6Kyt-d"
      },
      "source": [
        "**Analysis of F1 Scores**\n",
        "\n",
        "These scores were drastically different prior to my final presentation so they are reflected differently in the slides. In this case the Downsampled version scored 58.5 training and 38.79 in the testing. It scored better in this instance. In the imbalanced or 'all' dataset the model was performing better initially at 50.76 train and 49.23 test. "
      ]
    }
  ]
}